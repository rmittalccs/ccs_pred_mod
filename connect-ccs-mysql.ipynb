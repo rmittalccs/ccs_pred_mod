{
 "cells": [
  {
   "cell_type": "code",
   "execution_count": 1,
   "metadata": {},
   "outputs": [],
   "source": [
    "import pandas as pd\n",
    "import numpy as np\n",
    "import MySQLdb\n",
    "import os\n",
    "import matplotlib.pyplot as plt"
   ]
  },
  {
   "cell_type": "code",
   "execution_count": 2,
   "metadata": {},
   "outputs": [],
   "source": [
    "from dotenv import load_dotenv\n",
    "from pathlib import Path\n",
    "\n",
    "#dotenv_path = Path('~/.env_mysql_ccs')\n",
    "dotenv_path = Path.home() / '.env_mysql_ccs'\n",
    "\n",
    "try:\n",
    "    load_dotenv(dotenv_path=dotenv_path)\n",
    "except Exception as e:\n",
    "    print(\"Error loading .env file:\", e)"
   ]
  },
  {
   "cell_type": "code",
   "execution_count": 3,
   "metadata": {},
   "outputs": [],
   "source": [
    "# Environment Variables\n",
    "MYSQL_HOST = os.environ.get(\"MYSQL_HOST\")\n",
    "MYSQL_DATABASE = os.environ.get(\"MYSQL_DATABASE\")\n",
    "MYSQL_PASSWORD = os.environ.get(\"MYSQL_PASSWORD\")\n",
    "MYSQL_USER = os.environ.get(\"MYSQL_USER\")\n",
    "MYSQL_PORT = int(os.environ.get(\"MYSQL_PORT\"))\n",
    "\n",
    "#MYSQL_HOST, MYSQL_DATABASE, MYSQL_PASSWORD, MYSQL_USER, MYSQL_PORT"
   ]
  },
  {
   "cell_type": "code",
   "execution_count": 4,
   "metadata": {},
   "outputs": [],
   "source": [
    "conn = MySQLdb.connect(host=MYSQL_HOST, \\\n",
    "                     user=MYSQL_USER, \\\n",
    "                     passwd=MYSQL_PASSWORD, \\\n",
    "                     db=MYSQL_DATABASE, \\\n",
    "                     port=MYSQL_PORT)                               \n",
    "\n",
    "# you must create a Cursor object. It will let you execute all the queries you need\n",
    "cursor = conn.cursor()"
   ]
  },
  {
   "cell_type": "code",
   "execution_count": 5,
   "metadata": {},
   "outputs": [
    {
     "data": {
      "text/plain": [
       "((256240,),)"
      ]
     },
     "execution_count": 5,
     "metadata": {},
     "output_type": "execute_result"
    }
   ],
   "source": [
    "# Use all the SQL you like\n",
    "sql = \"SELECT COUNT(*) FROM constituents\"\n",
    "cursor.execute(sql)\n",
    "result = cursor.fetchall()\n",
    "result"
   ]
  },
  {
   "cell_type": "code",
   "execution_count": 8,
   "metadata": {},
   "outputs": [],
   "source": [
    "### Column Names of Constituents Table\n",
    "\n",
    "sql = \"SELECT COLUMN_NAME FROM INFORMATION_SCHEMA.COLUMNS \\\n",
    "       WHERE TABLE_NAME = 'constituents'\\\n",
    "       ORDER BY ORDINAL_POSITION\"\n",
    "cursor.execute(sql)\n",
    "result_columns = cursor.fetchall()\n",
    "column_names = [col[0] for col in result_columns]"
   ]
  },
  {
   "cell_type": "code",
   "execution_count": 6,
   "metadata": {},
   "outputs": [],
   "source": [
    "### Pull all the constituent data for NSF (eight files)\n",
    "client_name = \"National Scleroderma Foundation\"\n",
    "file_kind = \"constituent\"\n",
    "sql = \"SELECT constituents.* from constituents\\\n",
    "        join files on constituents.file_id=files.file_id\\\n",
    "        join clients on files.client_id=clients.client_id\\\n",
    "        where client_name = '%s' and file_kind = '%s'\" %(client_name, file_kind)\n",
    "\n",
    "cursor.execute(sql)                \n",
    "result_data = cursor.fetchall()\n",
    "#df_nsf = result.to_pandas()"
   ]
  },
  {
   "cell_type": "code",
   "execution_count": 9,
   "metadata": {},
   "outputs": [],
   "source": [
    "# Convert result to DataFrame\n",
    "df_nsf = pd.DataFrame(result_data, columns=column_names)\n",
    "df_nsf = df_nsf.drop(columns=\"file_id\")"
   ]
  },
  {
   "cell_type": "code",
   "execution_count": 12,
   "metadata": {},
   "outputs": [
    {
     "data": {
      "text/plain": [
       "63"
      ]
     },
     "execution_count": 12,
     "metadata": {},
     "output_type": "execute_result"
    }
   ],
   "source": [
    "len(df_nsf.keys())"
   ]
  },
  {
   "cell_type": "code",
   "execution_count": 69,
   "metadata": {},
   "outputs": [],
   "source": [
    "df_nsf.to_csv(\"files/national_scleroderma_foundation_constituent_ccsdb.csv\")"
   ]
  },
  {
   "cell_type": "code",
   "execution_count": 68,
   "metadata": {},
   "outputs": [
    {
     "data": {
      "text/plain": [
       "<Axes: >"
      ]
     },
     "execution_count": 68,
     "metadata": {},
     "output_type": "execute_result"
    },
    {
     "data": {
      "image/png": "[encoded data removed]",
      "text/plain": [
       "<Figure size 640x480 with 1 Axes>"
      ]
     },
     "metadata": {},
     "output_type": "display_data"
    }
   ],
   "source": [
    "df_nsf.lifetime_giving.hist()"
   ]
  },
  {
   "cell_type": "code",
   "execution_count": 8,
   "metadata": {},
   "outputs": [],
   "source": [
    "conn.close()"
   ]
  },
  {
   "cell_type": "code",
   "execution_count": null,
   "metadata": {},
   "outputs": [],
   "source": []
  }
 ],
 "metadata": {
  "kernelspec": {
   "display_name": "Python 3.9.18 64-bit",
   "language": "python",
   "name": "python3"
  },
  "language_info": {
   "codemirror_mode": {
    "name": "ipython",
    "version": 3
   },
   "file_extension": ".py",
   "mimetype": "text/x-python",
   "name": "python",
   "nbconvert_exporter": "python",
   "pygments_lexer": "ipython3",
   "version": "3.9.18"
  },
  "orig_nbformat": 4,
  "vscode": {
   "interpreter": {
    "hash": "5877982e48862afab5cac2d86b1c9e3a35113d8265262315a3994a8df64a2e49"
   }
  }
 },
 "nbformat": 4,
 "nbformat_minor": 2
}
