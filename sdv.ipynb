{
 "cells": [
  {
   "cell_type": "code",
   "execution_count": 35,
   "metadata": {},
   "outputs": [],
   "source": [
    "import sdv\n",
    "import pandas as pd\n",
    "from sdv.single_table.ctgan import CTGAN\n",
    "from sdv.metadata import SingleTableMetadata\n",
    "import logging\n",
    "import random\n",
    "import string"
   ]
  },
  {
   "cell_type": "code",
   "execution_count": 26,
   "metadata": {},
   "outputs": [
    {
     "name": "stderr",
     "output_type": "stream",
     "text": [
      "/tmp/ipykernel_28266/837933114.py:5: DtypeWarning: Columns (6,19,22,24,26,27,29,31,32,35,39,40,50) have mixed types. Specify dtype option on import or set low_memory=False.\n",
      "  df_cd = pd.read_csv(file, encoding=\"ISO-8859-1\")\n"
     ]
    }
   ],
   "source": [
    "client = \"national_scleroderma_foundation\"\n",
    "path = \"/home/RMittal@ccsfundraising.com/ccs_pred_mod\"\n",
    "filename =  \"%s_constituent_ccsdb.csv\" %(client)\n",
    "file = \"%s/%s\" %(path, filename)\n",
    "df_cd = pd.read_csv(file, encoding=\"ISO-8859-1\")\n",
    "df_cd = df_cd.dropna(how=\"all\", axis=1)\n",
    "df_cd = df_cd.rename(columns={\"solicit_codes\": \"solicit_codes_binary\"})\n",
    "df_cd[\"solicit_codes_binary\"] = df_cd[\"solicit_codes_binary\"].astype(\"bool\")\n",
    "df_cd = df_cd.drop(columns=[\"Unnamed: 0\"])\n",
    "df_cd[\"spouse_age\"] = pd.to_datetime(df_cd[\"spouse_age\"])"
   ]
  },
  {
   "cell_type": "code",
   "execution_count": 34,
   "metadata": {},
   "outputs": [
    {
     "data": {
      "text/plain": [
       "248443"
      ]
     },
     "execution_count": 34,
     "metadata": {},
     "output_type": "execute_result"
    }
   ],
   "source": [
    "len(df_cd)"
   ]
  },
  {
   "cell_type": "code",
   "execution_count": 27,
   "metadata": {},
   "outputs": [],
   "source": [
    "df_cd[df_cd.select_dtypes(include='object').columns] = df_cd.select_dtypes(include='object')\\\n",
    "                                                       .apply(lambda x: x.str.replace(\"scleroderma\", \"Company\", case=False))"
   ]
  },
  {
   "cell_type": "code",
   "execution_count": 41,
   "metadata": {},
   "outputs": [],
   "source": [
    "columns_nans ={key: df_cd[key].isna().sum() for key in df_cd.columns}\n"
   ]
  },
  {
   "cell_type": "code",
   "execution_count": null,
   "metadata": {},
   "outputs": [],
   "source": [
    "def create_array_with_nans(numbers, nans):\n",
    "    # Combine the numbers and NaNs\n",
    "    combined_list = numbers + [np.nan] * nans\n",
    "    \n",
    "    # Shuffle the combined list randomly\n",
    "    np.random.shuffle(combined_list)\n",
    "    \n",
    "    # Convert the list to a numpy array\n",
    "    result_array = np.array(combined_list)\n",
    "    \n",
    "    return result_array\n",
    "\n",
    "# Example usage\n",
    "N1 = 5\n",
    "N2 = 3\n",
    "numbers_or_strings = [1, 2, \"Alice\", \"Bob\", 3.14]\n",
    "result = create_array_with_nans(numbers_or_strings, N2)"
   ]
  },
  {
   "cell_type": "code",
   "execution_count": 43,
   "metadata": {},
   "outputs": [],
   "source": [
    "# Generate a list of 100 random strings\n",
    "def generate_random_strings(num_strings, string_length):\n",
    "    characters = string.ascii_letters + string.digits\n",
    "    return [''.join(random.choice(characters) for _ in range(string_length)) for _ in range(num_strings)]"
   ]
  },
  {
   "cell_type": "code",
   "execution_count": 55,
   "metadata": {},
   "outputs": [],
   "source": [
    "# Addresses\n",
    "\n",
    "columns_address = [\"address_1\", \"business_address\", \"seasonal_address\"]\n",
    "\n",
    "for col in columns_address:\n",
    "\n",
    "    N = len(df_cd) - columns_nans[col]\n",
    "\n",
    "    # Generate a list of N random integers\n",
    "    syn_house_numbers = [random.randint(1, N) for _ in range(N)]\n",
    "\n",
    "    # Example: Generate a list of N random strings, each with a length of 10 characters\n",
    "    syn_street_names = generate_random_strings(num_strings=N, string_length=10)\n",
    "\n",
    "    # List of street suffixes\n",
    "    suffixes = [\"Ave\", \"Str\", \"Rd\"]\n",
    "    syn_suffix = [random.choice(suffixes) for _ in range(N)]\n",
    "\n",
    "    globals()[\"%s_syn\" %col] = [f\"{num} {name} {suffix}\" for num, name, suffix \\\n",
    "                        in zip(syn_house_numbers, syn_street_names, syn_suffix)]"
   ]
  },
  {
   "cell_type": "code",
   "execution_count": null,
   "metadata": {},
   "outputs": [],
   "source": [
    "# Address_2\n",
    "\n",
    "df_cd[\"address_2\"] = df_cd[\"address_2\"].str.replace(\"apt\", \"Ste\", case=False)\n",
    "df_cd[\"address_2\"] = df_cd[\"address_2\"].str.replace(\"ste\", \"Apt\", case=False)"
   ]
  },
  {
   "cell_type": "code",
   "execution_count": 61,
   "metadata": {},
   "outputs": [],
   "source": [
    "# Emails\n",
    "\n",
    "columns_email = [\"personal_email\", \"spouse_email\"]\n",
    "\n",
    "for col in columns_email:\n",
    "\n",
    "    N = len(df_cd) - columns_nans[col]\n",
    "\n",
    "    # Example: Generate a list of N random strings, each with a length of 5 characters\n",
    "    syn_first_string = generate_random_strings(num_strings=N, string_length=5)\n",
    "\n",
    "    # Example: Generate a list of N random strings, each with a length of 5 characters\n",
    "    syn_second_string = generate_random_strings(num_strings=N, string_length=5)\n",
    "\n",
    "    # List of street suffixes\n",
    "    suffixes = [\"@gmail.com\", \"@yahoo.com\", \"@verizon.net\", \"@outlook.com\"]\n",
    "    syn_suffix = [random.choice(suffixes) for _ in range(N)]\n",
    "\n",
    "    globals()[\"%s_syn\" %col] = [f\"{first}.{second}{suffix}\" for first, second, suffix \\\n",
    "                        in zip(syn_first_string, syn_second_string, syn_suffix)]"
   ]
  },
  {
   "cell_type": "code",
   "execution_count": null,
   "metadata": {},
   "outputs": [],
   "source": [
    "# All Other Fields\n",
    "\n",
    "columns_to_synthesize_string = [\"first_name\", \"middle_name\", \"last_name\", \"spouse_name\", \"spouse_business_name\"]\n",
    "for col in columns_to_synthesize_string:\n",
    "\n",
    "    N = len(df_cd) - columns_nans[col]\n",
    "    globals()[\"%s_syn\" %col] = generate_random_strings(num_strings=N, string_length=10)\n",
    "\n",
    "columns_to_synthesize_integer = [\"constituent_id\", \"spouse_id\", \"home_phone\", \"cell_phone\", \"business_phone\"]\n",
    "for col in columns_to_synthesize_integer:\n",
    "\n",
    "    N = len(df_cd) - columns_nans[col]\n",
    "    if \"phone\" in col:\n",
    "        globals()[\"%s_syn\" %col] = [random.randint(1000000000, 9999999999) for _ in range(N)]\n",
    "    else:\n",
    "        globals()[\"%s_syn\" %col] = [random.randint(1, N) for _ in range(N)]"
   ]
  },
  {
   "cell_type": "code",
   "execution_count": null,
   "metadata": {},
   "outputs": [],
   "source": [
    "for col in columns_to_synthesize:\n",
    "    N = len(df_cd) - columns_nans[col]\n",
    "    globals()[\"%s_syn\" %col] = generate_random_strings(num_strings=N, string_length=10)"
   ]
  },
  {
   "cell_type": "code",
   "execution_count": null,
   "metadata": {},
   "outputs": [],
   "source": []
  },
  {
   "cell_type": "code",
   "execution_count": 89,
   "metadata": {},
   "outputs": [],
   "source": [
    "#nsf_dtypes = pd.read_csv(\"nsf_dtypes.txt\", sep='\\s+,')\n",
    "# for idx, row in nsf_dtypes.iterrows():\n",
    "#     field = row[\"fields\"]\n",
    "#     dtype = row[\"dtypes\"]\n",
    "    \n",
    "#     if dtype == \"str\":\n",
    "#         df_cd[field] = df_cd[field].astype(str)\n",
    "#     elif dtype == \"datetime\":\n",
    "#         df_cd[field] = pd.to_datetime(df_cd[field], errors='coerce')\n",
    "#     elif dtype == \"float64\":\n",
    "#         df_cd[field] = df_cd[field].astype(float, errors='ignore')\n",
    "#     elif dtype == \"int\":\n",
    "#         df_cd[field] = df_cd[field].astype(int, errors='ignore')"
   ]
  },
  {
   "cell_type": "code",
   "execution_count": null,
   "metadata": {},
   "outputs": [],
   "source": [
    "#df_subset = df_cd.iloc[:, 1:5]\n",
    "metadata = SingleTableMetadata()\n",
    "metadata.detect_from_dataframe(df_cd)\n",
    "python_dict = metadata.to_dict()"
   ]
  },
  {
   "cell_type": "code",
   "execution_count": 91,
   "metadata": {},
   "outputs": [],
   "source": [
    "python_dict['columns']['middle_name'] = {\n",
    "    \"sdtype\": \"middle_name\",\n",
    "    \"pii\": \"True\"\n",
    "}\n",
    "python_dict['columns']['address_1'] = {\n",
    "    \"sdtype\": \"text\",\n",
    "    \"pii\": \"True\"\n",
    "}\n",
    "# Update metadata\n",
    "metadata = SingleTableMetadata.load_from_dict(python_dict)"
   ]
  },
  {
   "cell_type": "code",
   "execution_count": 93,
   "metadata": {},
   "outputs": [],
   "source": [
    "metadata.validate_data(data=df_subset)\n",
    "synthesizer = CTGAN(\n",
    "    metadata,\n",
    "    verbose=True\n",
    ")\n",
    "synthesizer.fit(df_subset)"
   ]
  },
  {
   "cell_type": "code",
   "execution_count": null,
   "metadata": {},
   "outputs": [],
   "source": []
  }
 ],
 "metadata": {
  "kernelspec": {
   "display_name": "Python 3.9.18 ('.py39_scikit': venv)",
   "language": "python",
   "name": "python3"
  },
  "language_info": {
   "codemirror_mode": {
    "name": "ipython",
    "version": 3
   },
   "file_extension": ".py",
   "mimetype": "text/x-python",
   "name": "python",
   "nbconvert_exporter": "python",
   "pygments_lexer": "ipython3",
   "version": "3.9.18"
  },
  "orig_nbformat": 4,
  "vscode": {
   "interpreter": {
    "hash": "182b72de6a7fc364a5310487655b0e5f592a8e241d778628074080a7151d467c"
   }
  }
 },
 "nbformat": 4,
 "nbformat_minor": 2
}
